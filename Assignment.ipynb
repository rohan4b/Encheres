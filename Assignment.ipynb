{
  "nbformat": 4,
  "nbformat_minor": 0,
  "metadata": {
    "colab": {
      "name": "Assignment.ipynb",
      "provenance": [],
      "collapsed_sections": [],
      "include_colab_link": true
    },
    "kernelspec": {
      "name": "python3",
      "display_name": "Python 3"
    }
  },
  "cells": [
    {
      "cell_type": "markdown",
      "metadata": {
        "id": "view-in-github",
        "colab_type": "text"
      },
      "source": [
        "<a href=\"https://colab.research.google.com/github/rohan4b/Encheres/blob/master/Assignment.ipynb\" target=\"_parent\"><img src=\"https://colab.research.google.com/assets/colab-badge.svg\" alt=\"Open In Colab\"/></a>"
      ]
    },
    {
      "cell_type": "markdown",
      "metadata": {
        "id": "o7qIdDL-F7a6"
      },
      "source": [
        "# loading data"
      ]
    },
    {
      "cell_type": "code",
      "metadata": {
        "id": "FClzx3kcGJ9f"
      },
      "source": [
        "import pandas as pd\n",
        "from collections import defaultdict\n",
        "import matplotlib.pyplot a,s plt\n",
        "from sklearn.datasets import fetch_openml\n",
        "import numpy as np\n",
        "from sklearn.model_selection import train_test_split"
      ],
      "execution_count": null,
      "outputs": []
    },
    {
      "cell_type": "code",
      "metadata": {
        "id": "IUs9pjfxDvS6",
        "colab": {
          "base_uri": "https://localhost:8080/",
          "height": 322
        },
        "outputId": "293bde2f-b97d-423b-96f1-b4ef8894c39e"
      },
      "source": [
        "mnist = fetch_openml('mnist_784')\n",
        "x = mnist.data\n",
        "y = mnist.target"
      ],
      "execution_count": 1,
      "outputs": [
        {
          "output_type": "error",
          "ename": "NameError",
          "evalue": "ignored",
          "traceback": [
            "\u001b[0;31m---------------------------------------------------------------------------\u001b[0m",
            "\u001b[0;31mNameError\u001b[0m                                 Traceback (most recent call last)",
            "\u001b[0;32m<ipython-input-1-676a97dbfee3>\u001b[0m in \u001b[0;36m<module>\u001b[0;34m()\u001b[0m\n\u001b[0;32m----> 1\u001b[0;31m \u001b[0mmnist\u001b[0m \u001b[0;34m=\u001b[0m \u001b[0mfetch_openml\u001b[0m\u001b[0;34m(\u001b[0m\u001b[0;34m'mnist_784'\u001b[0m\u001b[0;34m)\u001b[0m\u001b[0;34m\u001b[0m\u001b[0;34m\u001b[0m\u001b[0m\n\u001b[0m\u001b[1;32m      2\u001b[0m \u001b[0mx\u001b[0m \u001b[0;34m=\u001b[0m \u001b[0mmnist\u001b[0m\u001b[0;34m.\u001b[0m\u001b[0mdata\u001b[0m\u001b[0;34m\u001b[0m\u001b[0;34m\u001b[0m\u001b[0m\n\u001b[1;32m      3\u001b[0m \u001b[0my\u001b[0m \u001b[0;34m=\u001b[0m \u001b[0mmnist\u001b[0m\u001b[0;34m.\u001b[0m\u001b[0mtarget\u001b[0m\u001b[0;34m\u001b[0m\u001b[0;34m\u001b[0m\u001b[0m\n",
            "\u001b[0;31mNameError\u001b[0m: name 'fetch_openml' is not defined"
          ]
        }
      ]
    },
    {
      "cell_type": "code",
      "metadata": {
        "id": "L8kD6Gp-GrfU"
      },
      "source": [
        "x = x.reshape(70000, 28, 28)"
      ],
      "execution_count": null,
      "outputs": []
    },
    {
      "cell_type": "code",
      "metadata": {
        "colab": {
          "base_uri": "https://localhost:8080/"
        },
        "id": "FEAjSoCAEa7N",
        "outputId": "100546d6-80d4-4a14-9762-7ff70b227bbd"
      },
      "source": [
        "x.shape, y.shape"
      ],
      "execution_count": null,
      "outputs": [
        {
          "output_type": "execute_result",
          "data": {
            "text/plain": [
              "((70000, 28, 28), (70000,))"
            ]
          },
          "metadata": {
            "tags": []
          },
          "execution_count": 18
        }
      ]
    },
    {
      "cell_type": "markdown",
      "metadata": {
        "id": "cAsEOIrnF6LF"
      },
      "source": [
        "# breaking into train and test"
      ]
    },
    {
      "cell_type": "code",
      "metadata": {
        "id": "rS9JtAC1EhMz"
      },
      "source": [
        "train_x, test_x, train_y, test_y = train_test_split(x, y, test_size=0.2)"
      ],
      "execution_count": null,
      "outputs": []
    },
    {
      "cell_type": "code",
      "metadata": {
        "colab": {
          "base_uri": "https://localhost:8080/"
        },
        "id": "EwmHogbUFvVu",
        "outputId": "ce25be3b-0110-4dbb-aebc-3d9a4db05e06"
      },
      "source": [
        "train_x.shape, test_x.shape, train_y.shape, test_y.shape"
      ],
      "execution_count": null,
      "outputs": [
        {
          "output_type": "execute_result",
          "data": {
            "text/plain": [
              "((56000, 28, 28), (14000, 28, 28), (56000,), (14000,))"
            ]
          },
          "metadata": {
            "tags": []
          },
          "execution_count": 20
        }
      ]
    },
    {
      "cell_type": "markdown",
      "metadata": {
        "id": "_C1AsUqsGEFH"
      },
      "source": [
        "# visualizing the distribution of training data"
      ]
    },
    {
      "cell_type": "code",
      "metadata": {
        "colab": {
          "base_uri": "https://localhost:8080/",
          "height": 279
        },
        "id": "Myjc8C2xF2yy",
        "outputId": "a1987d5a-bfd2-4475-9522-8cb4ae9f099d"
      },
      "source": [
        "pd.Series(train_y).value_counts().plot.bar()\n",
        "\n",
        "# the classes are almost balanced i.e evenly distributed"
      ],
      "execution_count": null,
      "outputs": [
        {
          "output_type": "execute_result",
          "data": {
            "text/plain": [
              "<matplotlib.axes._subplots.AxesSubplot at 0x7fa494019390>"
            ]
          },
          "metadata": {
            "tags": []
          },
          "execution_count": 21
        },
        {
          "output_type": "display_data",
          "data": {
            "image/png": "[encoded data removed]",
            "text/plain": [
              "<Figure size 432x288 with 1 Axes>"
            ]
          },
          "metadata": {
            "tags": [],
            "needs_background": "light"
          }
        }
      ]
    },
    {
      "cell_type": "markdown",
      "metadata": {
        "id": "ahTXIK1RGkV2"
      },
      "source": [
        "# segregating as per the classes"
      ]
    },
    {
      "cell_type": "code",
      "metadata": {
        "id": "gI_bnBd4Gh9s"
      },
      "source": [
        "# making blocks of images for every class\n",
        "\n",
        "data_dict = defaultdict(list)\n",
        "for img, id in zip(train_x, train_y):\n",
        "  data_dict[int(id)].append(img)"
      ],
      "execution_count": null,
      "outputs": []
    },
    {
      "cell_type": "markdown",
      "metadata": {
        "id": "j7vgaQAwI6Hd"
      },
      "source": [
        "# calculating mean and standard deviation images (PART 1)"
      ]
    },
    {
      "cell_type": "code",
      "metadata": {
        "id": "re4unaxERDqG"
      },
      "source": [
        "def plotter(images=None):\n",
        "  plt.subplot(121)\n",
        "  plt.imshow(images[0].reshape(28,28))\n",
        "  plt.subplot(122)\n",
        "  plt.imshow(images[1].reshape(28,28))"
      ],
      "execution_count": null,
      "outputs": []
    },
    {
      "cell_type": "code",
      "metadata": {
        "colab": {
          "base_uri": "https://localhost:8080/",
          "height": 1000
        },
        "id": "ibtif9THHS4Z",
        "outputId": "6e74c956-b21c-4352-be45-cd2a2269b68e"
      },
      "source": [
        "mean_std_dict = {}\n",
        "for id in range(10):\n",
        "  print('class name :', id)\n",
        "  blank_img = np.zeros((28, 28))\n",
        "  for each_img in data_dict[id]:\n",
        "    for r in range(len(each_img)):\n",
        "      for c in range(len(each_img)):\n",
        "        blank_img[r][c] += each_img[r][c]\n",
        "\n",
        "  mean_img = blank_img / len(data_dict[id])     # mean = sum(X)/N\n",
        "                                                # var = sum((x[i] - x')**2)/N\n",
        "  blank_img = np.zeros((28, 28))\n",
        "  for each_img in data_dict[id]:\n",
        "    for r in range(len(each_img)):\n",
        "      for c in range(len(each_img)):\n",
        "        blank_img[r][c] += (each_img[r][c] - mean_img[r][c])**2     \n",
        "  \n",
        "  var_img = blank_img / len(data_dict[id])\n",
        "  std_img = np.sqrt(var_img)                  # std = root(var)  \n",
        "  mean_std_dict[id] = [mean_img, std_img]\n",
        "  print('mean image \\t\\t\\t std image')\n",
        "  plotter([mean_img, std_img])\n",
        "  plt.show()\n",
        "  print('----------------------------------------------------------------------------------------------')"
      ],
      "execution_count": null,
      "outputs": [
        {
          "output_type": "stream",
          "text": [
            "class name : 0\n",
            "mean image \t\t\t std image\n"
          ],
          "name": "stdout"
        },
        {
          "output_type": "display_data",
          "data": {
            "image/png": "[encoded data removed]",
            "text/plain": [
              "<Figure size 432x288 with 2 Axes>"
            ]
          },
          "metadata": {
            "tags": [],
            "needs_background": "light"
          }
        },
        {
          "output_type": "stream",
          "text": [
            "----------------------------------------------------------------------------------------------\n",
            "class name : 1\n",
            "mean image \t\t\t std image\n"
          ],
          "name": "stdout"
        },
        {
          "output_type": "display_data",
          "data": {
            "image/png": "[encoded data removed]",
            "text/plain": [
              "<Figure size 432x288 with 2 Axes>"
            ]
          },
          "metadata": {
            "tags": [],
            "needs_background": "light"
          }
        },
        {
          "output_type": "stream",
          "text": [
            "----------------------------------------------------------------------------------------------\n",
            "class name : 2\n",
            "mean image \t\t\t std image\n"
          ],
          "name": "stdout"
        },
        {
          "output_type": "display_data",
          "data": {
            "image/png": "[encoded data removed]",
            "text/plain": [
              "<Figure size 432x288 with 2 Axes>"
            ]
          },
          "metadata": {
            "tags": [],
            "needs_background": "light"
          }
        },
        {
          "output_type": "stream",
          "text": [
            "----------------------------------------------------------------------------------------------\n",
            "class name : 3\n",
            "mean image \t\t\t std image\n"
          ],
          "name": "stdout"
        },
        {
          "output_type": "display_data",
          "data": {
            "image/png": "[encoded data removed]",
            "text/plain": [
              "<Figure size 432x288 with 2 Axes>"
            ]
          },
          "metadata": {
            "tags": [],
            "needs_background": "light"
          }
        },
        {
          "output_type": "stream",
          "text": [
            "----------------------------------------------------------------------------------------------\n",
            "class name : 4\n",
            "mean image \t\t\t std image\n"
          ],
          "name": "stdout"
        },
        {
          "output_type": "display_data",
          "data": {
            "image/png": "[encoded data removed]",
            "text/plain": [
              "<Figure size 432x288 with 2 Axes>"
            ]
          },
          "metadata": {
            "tags": [],
            "needs_background": "light"
          }
        },
        {
          "output_type": "stream",
          "text": [
            "----------------------------------------------------------------------------------------------\n",
            "class name : 5\n",
            "mean image \t\t\t std image\n"
          ],
          "name": "stdout"
        },
        {
          "output_type": "display_data",
          "data": {
            "image/png": "[encoded data removed]",
            "text/plain": [
              "<Figure size 432x288 with 2 Axes>"
            ]
          },
          "metadata": {
            "tags": [],
            "needs_background": "light"
          }
        },
        {
          "output_type": "stream",
          "text": [
            "----------------------------------------------------------------------------------------------\n",
            "class name : 6\n",
            "mean image \t\t\t std image\n"
          ],
          "name": "stdout"
        },
        {
          "output_type": "display_data",
          "data": {
            "image/png": "[encoded data removed]",
            "text/plain": [
              "<Figure size 432x288 with 2 Axes>"
            ]
          },
          "metadata": {
            "tags": [],
            "needs_background": "light"
          }
        },
        {
          "output_type": "stream",
          "text": [
            "----------------------------------------------------------------------------------------------\n",
            "class name : 7\n",
            "mean image \t\t\t std image\n"
          ],
          "name": "stdout"
        },
        {
          "output_type": "display_data",
          "data": {
            "image/png": "[encoded data removed]",
            "text/plain": [
              "<Figure size 432x288 with 2 Axes>"
            ]
          },
          "metadata": {
            "tags": [],
            "needs_background": "light"
          }
        },
        {
          "output_type": "stream",
          "text": [
            "----------------------------------------------------------------------------------------------\n",
            "class name : 8\n",
            "mean image \t\t\t std image\n"
          ],
          "name": "stdout"
        },
        {
          "output_type": "display_data",
          "data": {
            "image/png": "[encoded data removed]",
            "text/plain": [
              "<Figure size 432x288 with 2 Axes>"
            ]
          },
          "metadata": {
            "tags": [],
            "needs_background": "light"
          }
        },
        {
          "output_type": "stream",
          "text": [
            "----------------------------------------------------------------------------------------------\n",
            "class name : 9\n",
            "mean image \t\t\t std image\n"
          ],
          "name": "stdout"
        },
        {
          "output_type": "display_data",
          "data": {
            "image/png": "[encoded data removed]",
            "text/plain": [
              "<Figure size 432x288 with 2 Axes>"
            ]
          },
          "metadata": {
            "tags": [],
            "needs_background": "light"
          }
        },
        {
          "output_type": "stream",
          "text": [
            "----------------------------------------------------------------------------------------------\n"
          ],
          "name": "stdout"
        }
      ]
    },
    {
      "cell_type": "markdown",
      "metadata": {
        "id": "0ZR-cmXFUYO9"
      },
      "source": [
        "# discriminant calculation (PART 2)"
      ]
    },
    {
      "cell_type": "code",
      "metadata": {
        "id": "3CvlPs_hQ8_G"
      },
      "source": [
        "def discriminant(test_img):\n",
        "  sum_val = 10**10\n",
        "  closest_class = -1\n",
        "  for id in mean_std_dict:\n",
        "    mean_class_img, std_class_img = mean_std_dict[id]\n",
        "\n",
        "    # calculating difference in mean pattern and test pattern\n",
        "    mean_diff = np.abs(test_img - mean_class_img)\n",
        "    # difference between standard_deviation and difference between test and mean pattern\n",
        "    std_diff = np.abs(mean_diff - std_class_img)\n",
        "\n",
        "    # low value represents less noise, which could only happen if the test image almost coincides with general class mean and deviation\n",
        "    curr_sum = np.sum(std_diff)\n",
        "\n",
        "    if sum_val > curr_sum:\n",
        "      sum_val = curr_sum\n",
        "      closest_class = id\n",
        "  return closest_class"
      ],
      "execution_count": null,
      "outputs": []
    },
    {
      "cell_type": "code",
      "metadata": {
        "id": "huKNXlmNYMPj"
      },
      "source": [
        "predictions = []\n",
        "for i in range(len(test_x)):\n",
        "  pred = discriminant(test_x[i])\n",
        "  predictions.append(str(pred))"
      ],
      "execution_count": null,
      "outputs": []
    },
    {
      "cell_type": "markdown",
      "metadata": {
        "id": "l_NRrLAJcmnW"
      },
      "source": [
        "# metrics"
      ]
    },
    {
      "cell_type": "code",
      "metadata": {
        "id": "q7pa6zk0dF7i"
      },
      "source": [
        "def accuracy_per_class(preds, tests):\n",
        "  res_dict = {str(k):[0, 0] for k in range(0, 10)}\n",
        "  for p, t in zip(preds, tests):\n",
        "    if t == p:\n",
        "      res_dict[t][0] += 1\n",
        "    res_dict[t][1] += 1\n",
        "  print('class\\t \\t accuracy')\n",
        "  for r in res_dict:\n",
        "    print(r, '\\t->\\t', res_dict[r][0]/ res_dict[r][1])"
      ],
      "execution_count": null,
      "outputs": []
    },
    {
      "cell_type": "code",
      "metadata": {
        "colab": {
          "base_uri": "https://localhost:8080/"
        },
        "id": "OO2yU2igYMMq",
        "outputId": "b03efd73-9b1a-4459-ed28-964cf5a53e4c"
      },
      "source": [
        "from sklearn.metrics import accuracy_score, confusion_matrix\n",
        "from sklearn.metrics import precision_recall_fscore_support as score\n",
        "\n",
        "print('Accurcay per class')\n",
        "accuracy_per_class(predictions, test_y)\n",
        "\n",
        "print('\\n----------------------------------\\n')\n",
        "\n",
        "print('Total accuracy score :', accuracy_score(predictions, test_y))\n",
        "\n",
        "print('\\n----------------------------------\\n')\n",
        "\n",
        "print('Confusion_matrix')\n",
        "print(confusion_matrix(predictions, test_y))\n",
        "\n",
        "print('\\n----------------------------------\\n')\n",
        "print('Metric per class')\n",
        "precision, recall, fscore, support = score(test_y, predictions)\n",
        "\n",
        "print(\"\\tprecision   recall  \\tfscore\\t     support\")\n",
        "for i in range(10):\n",
        "  print(i, '->\\t', f'{str(precision[i])[:4]} \\t   {str(recall[i])[:4]} \\t   {str(fscore[i])[:4]} \\t   {str(support[i])[:4]}')"
      ],
      "execution_count": null,
      "outputs": [
        {
          "output_type": "stream",
          "text": [
            "Accurcay per class\n",
            "class\t \t accuracy\n",
            "0 \t->\t 0.9375951293759512\n",
            "1 \t->\t 0.9795792079207921\n",
            "2 \t->\t 0.5457875457875457\n",
            "3 \t->\t 0.4912526242127362\n",
            "4 \t->\t 0.16569343065693432\n",
            "5 \t->\t 0.3262411347517731\n",
            "6 \t->\t 0.8911174785100286\n",
            "7 \t->\t 0.3674863387978142\n",
            "8 \t->\t 0.8246753246753247\n",
            "9 \t->\t 0.8245866283249461\n",
            "\n",
            "----------------------------------\n",
            "\n",
            "Total accuracy score : 0.6410714285714286\n",
            "\n",
            "----------------------------------\n",
            "\n",
            "Confusion_matrix\n",
            "[[1232    1   84   60   28  157   51   40   20   33]\n",
            " [   2 1583  123  137   69  127   60  134  161   97]\n",
            " [   2    0  745   35    3    4    4    6    3    3]\n",
            " [   0    0   11  702    0   36    0    2   10    4]\n",
            " [   0    0    1    0  227    0    0    0    0    3]\n",
            " [  12    0    6   38   13  414    3    8    6    2]\n",
            " [  20    6  157   26   86   44 1244    2   11    2]\n",
            " [   0    0    1    3    1    0    0  538    1    2]\n",
            " [  38   25  222  398  176  435   34  107 1143   98]\n",
            " [   8    1   15   30  767   52    0  627   31 1147]]\n",
            "\n",
            "----------------------------------\n",
            "\n",
            "Metric per class\n",
            "\tprecision   recall  \tfscore\t     support\n",
            "0 ->\t 0.72 \t   0.93 \t   0.81 \t   1314\n",
            "1 ->\t 0.63 \t   0.97 \t   0.77 \t   1616\n",
            "2 ->\t 0.92 \t   0.54 \t   0.68 \t   1365\n",
            "3 ->\t 0.91 \t   0.49 \t   0.63 \t   1429\n",
            "4 ->\t 0.98 \t   0.16 \t   0.28 \t   1370\n",
            "5 ->\t 0.82 \t   0.32 \t   0.46 \t   1269\n",
            "6 ->\t 0.77 \t   0.89 \t   0.83 \t   1396\n",
            "7 ->\t 0.98 \t   0.36 \t   0.53 \t   1464\n",
            "8 ->\t 0.42 \t   0.82 \t   0.56 \t   1386\n",
            "9 ->\t 0.42 \t   0.82 \t   0.56 \t   1391\n"
          ],
          "name": "stdout"
        }
      ]
    },
    {
      "cell_type": "code",
      "metadata": {
        "id": "Ov323jtJYMJi"
      },
      "source": [
        "'''\n",
        "# there are certain disadvantages of bayseian method for pattern recognition which makes it less efficient than other methods. They are : \n",
        "\n",
        "  1.The main limitation of Naive Bayes is the assumption of independent predictor features. \n",
        "    Naive Bayes implicitly assumes that all the attributes are mutually independent. \n",
        "    In real life, it’s almost impossible that we get a set of predictors that are completely independent or one another.\n",
        "\n",
        "  2.If a categorical variable has a category in the test dataset, which was not observed in training dataset,\n",
        "    then the model will assign a 0 (zero) probability and will be unable to make a prediction.\n",
        "    This is often known as Zero Frequency. To solve this, we can use a smoothing technique.\n",
        "    \n",
        "'''"
      ],
      "execution_count": null,
      "outputs": []
    },
    {
      "cell_type": "code",
      "metadata": {
        "id": "KekkJQqcYMEi"
      },
      "source": [
        ""
      ],
      "execution_count": null,
      "outputs": []
    }
  ]
}