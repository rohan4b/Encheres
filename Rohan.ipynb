{
  "nbformat": 4,
  "nbformat_minor": 0,
  "metadata": {
    "colab": {
      "name": "Rohan.ipynb",
      "provenance": [],
      "collapsed_sections": [],
      "include_colab_link": true
    },
    "kernelspec": {
      "name": "python3",
      "display_name": "Python 3"
    }
  },
  "cells": [
    {
      "cell_type": "markdown",
      "metadata": {
        "id": "view-in-github",
        "colab_type": "text"
      },
      "source": [
        "<a href=\"https://colab.research.google.com/github/rohan4b/Encheres/blob/master/Rohan.ipynb\" target=\"_parent\"><img src=\"https://colab.research.google.com/assets/colab-badge.svg\" alt=\"Open In Colab\"/></a>"
      ]
    },
    {
      "cell_type": "markdown",
      "metadata": {
        "id": "o7qIdDL-F7a6"
      },
      "source": [
        "# loading data"
      ]
    },
    {
      "cell_type": "code",
      "metadata": {
        "id": "FClzx3kcGJ9f"
      },
      "source": [
        "import pandas as pd\n",
        "from collections import defaultdict\n",
        "import matplotlib.pyplot as plt\n",
        "from sklearn.datasets import fetch_openml\n",
        "import numpy as np\n",
        "import random\n",
        "from sklearn.model_selection import train_test_split"
      ],
      "execution_count": null,
      "outputs": []
    },
    {
      "cell_type": "code",
      "metadata": {
        "id": "IUs9pjfxDvS6"
      },
      "source": [
        "mnist = fetch_openml('mnist_784')\n",
        "x = mnist.data\n",
        "y = mnist.target"
      ],
      "execution_count": null,
      "outputs": []
    },
    {
      "cell_type": "code",
      "metadata": {
        "id": "L8kD6Gp-GrfU"
      },
      "source": [
        "x = x.reshape(70000, 28, 28)"
      ],
      "execution_count": null,
      "outputs": []
    },
    {
      "cell_type": "code",
      "metadata": {
        "colab": {
          "base_uri": "https://localhost:8080/"
        },
        "id": "FEAjSoCAEa7N",
        "outputId": "36f51a8c-4241-4db8-e634-48ffb097090b"
      },
      "source": [
        "x.shape, y.shape"
      ],
      "execution_count": null,
      "outputs": [
        {
          "output_type": "execute_result",
          "data": {
            "text/plain": [
              "((70000, 28, 28), (70000,))"
            ]
          },
          "metadata": {
            "tags": []
          },
          "execution_count": 12
        }
      ]
    },
    {
      "cell_type": "markdown",
      "metadata": {
        "id": "cAsEOIrnF6LF"
      },
      "source": [
        "# breaking into train and test"
      ]
    },
    {
      "cell_type": "code",
      "metadata": {
        "id": "WbPHuV4M6KMG"
      },
      "source": [
        "def data_split(x, y, split_size = 0.2):\n",
        "  data = [x, y]\n",
        "  random.shuffle(data)\n",
        "\n",
        "  split = int(len(data[0]) * (1 - split_size))\n",
        "  train_x, test_x, train_y, test_y = data[0][:split], data[0][split:], data[1][:split], data[1][split:] \n",
        "  return train_x, test_x, train_y, test_y"
      ],
      "execution_count": null,
      "outputs": []
    },
    {
      "cell_type": "code",
      "metadata": {
        "id": "rS9JtAC1EhMz"
      },
      "source": [
        "train_x, test_x, train_y, test_y = data_split(x, y)"
      ],
      "execution_count": null,
      "outputs": []
    },
    {
      "cell_type": "code",
      "metadata": {
        "colab": {
          "base_uri": "https://localhost:8080/"
        },
        "id": "EwmHogbUFvVu",
        "outputId": "ee1104e6-98ca-4398-aaac-308973f6f594"
      },
      "source": [
        "train_x.shape, test_x.shape, train_y.shape, test_y.shape"
      ],
      "execution_count": null,
      "outputs": [
        {
          "output_type": "execute_result",
          "data": {
            "text/plain": [
              "((56000, 28, 28), (14000, 28, 28), (56000,), (14000,))"
            ]
          },
          "metadata": {
            "tags": []
          },
          "execution_count": 73
        }
      ]
    },
    {
      "cell_type": "markdown",
      "metadata": {
        "id": "_C1AsUqsGEFH"
      },
      "source": [
        "# visualizing the distribution of training data"
      ]
    },
    {
      "cell_type": "code",
      "metadata": {
        "colab": {
          "base_uri": "https://localhost:8080/",
          "height": 279
        },
        "id": "Myjc8C2xF2yy",
        "outputId": "4e5fa59f-dbeb-40ab-8f5d-2dfa57eb6912"
      },
      "source": [
        "pd.Series(train_y).value_counts().plot.bar()\n",
        "\n",
        "# the classes are almost balanced i.e evenly distributed"
      ],
      "execution_count": null,
      "outputs": [
        {
          "output_type": "execute_result",
          "data": {
            "text/plain": [
              "<matplotlib.axes._subplots.AxesSubplot at 0x7f4b39c09d10>"
            ]
          },
          "metadata": {
            "tags": []
          },
          "execution_count": 74
        },
        {
          "output_type": "display_data",
          "data": {
            "image/png": "[encoded data removed]",
            "text/plain": [
              "<Figure size 432x288 with 1 Axes>"
            ]
          },
          "metadata": {
            "tags": [],
            "needs_background": "light"
          }
        }
      ]
    },
    {
      "cell_type": "markdown",
      "metadata": {
        "id": "ahTXIK1RGkV2"
      },
      "source": [
        "# segregating as per the classes"
      ]
    },
    {
      "cell_type": "code",
      "metadata": {
        "id": "gI_bnBd4Gh9s"
      },
      "source": [
        "# making blocks of images for every class\n",
        "\n",
        "data_dict = defaultdict(list)\n",
        "for img, id in zip(train_x, train_y):\n",
        "  data_dict[int(id)].append(img)"
      ],
      "execution_count": null,
      "outputs": []
    },
    {
      "cell_type": "markdown",
      "metadata": {
        "id": "j7vgaQAwI6Hd"
      },
      "source": [
        "# calculating mean and standard deviation images (PART 1)"
      ]
    },
    {
      "cell_type": "code",
      "metadata": {
        "id": "re4unaxERDqG"
      },
      "source": [
        "def plotter(images=None):\n",
        "  plt.subplot(121)\n",
        "  plt.imshow(images[0].reshape(28,28))\n",
        "  plt.subplot(122)\n",
        "  plt.imshow(images[1].reshape(28,28))"
      ],
      "execution_count": null,
      "outputs": []
    },
    {
      "cell_type": "code",
      "metadata": {
        "colab": {
          "base_uri": "https://localhost:8080/",
          "height": 1000
        },
        "id": "ibtif9THHS4Z",
        "outputId": "028a67e0-3ce6-4e73-d4c6-d22703179d38"
      },
      "source": [
        "mean_std_dict = {}\n",
        "for id in range(10):\n",
        "  print('class name :', id)\n",
        "  blank_img = np.zeros((28, 28))\n",
        "  for each_img in data_dict[id]:\n",
        "    for r in range(len(each_img)):\n",
        "      for c in range(len(each_img)):\n",
        "        blank_img[r][c] += each_img[r][c]\n",
        "\n",
        "  mean_img = blank_img / len(data_dict[id])     # mean = sum(X)/N\n",
        "                                                # var = sum((x[i] - x')**2)/N\n",
        "  blank_img = np.zeros((28, 28))\n",
        "  for each_img in data_dict[id]:\n",
        "    for r in range(len(each_img)):\n",
        "      for c in range(len(each_img)):\n",
        "        blank_img[r][c] += (each_img[r][c] - mean_img[r][c])**2     \n",
        "  \n",
        "  var_img = blank_img / len(data_dict[id])\n",
        "  std_img = np.sqrt(var_img)                  # std = root(var)  \n",
        "  mean_std_dict[id] = [mean_img, std_img]\n",
        "  print('mean image \\t\\t\\t std image')\n",
        "  plotter([mean_img, std_img])\n",
        "  plt.show()\n",
        "  print('----------------------------------------------------------------------------------------------')"
      ],
      "execution_count": null,
      "outputs": [
        {
          "output_type": "stream",
          "text": [
            "class name : 0\n",
            "mean image \t\t\t std image\n"
          ],
          "name": "stdout"
        },
        {
          "output_type": "display_data",
          "data": {
            "image/png": "[encoded data removed]",
            "text/plain": [
              "<Figure size 432x288 with 2 Axes>"
            ]
          },
          "metadata": {
            "tags": [],
            "needs_background": "light"
          }
        },
        {
          "output_type": "stream",
          "text": [
            "----------------------------------------------------------------------------------------------\n",
            "class name : 1\n",
            "mean image \t\t\t std image\n"
          ],
          "name": "stdout"
        },
        {
          "output_type": "display_data",
          "data": {
            "image/png": "[encoded data removed]",
            "text/plain": [
              "<Figure size 432x288 with 2 Axes>"
            ]
          },
          "metadata": {
            "tags": [],
            "needs_background": "light"
          }
        },
        {
          "output_type": "stream",
          "text": [
            "----------------------------------------------------------------------------------------------\n",
            "class name : 2\n",
            "mean image \t\t\t std image\n"
          ],
          "name": "stdout"
        },
        {
          "output_type": "display_data",
          "data": {
            "image/png": "[encoded data removed]",
            "text/plain": [
              "<Figure size 432x288 with 2 Axes>"
            ]
          },
          "metadata": {
            "tags": [],
            "needs_background": "light"
          }
        },
        {
          "output_type": "stream",
          "text": [
            "----------------------------------------------------------------------------------------------\n",
            "class name : 3\n",
            "mean image \t\t\t std image\n"
          ],
          "name": "stdout"
        },
        {
          "output_type": "display_data",
          "data": {
            "image/png": "[encoded data removed]",
            "text/plain": [
              "<Figure size 432x288 with 2 Axes>"
            ]
          },
          "metadata": {
            "tags": [],
            "needs_background": "light"
          }
        },
        {
          "output_type": "stream",
          "text": [
            "----------------------------------------------------------------------------------------------\n",
            "class name : 4\n",
            "mean image \t\t\t std image\n"
          ],
          "name": "stdout"
        },
        {
          "output_type": "display_data",
          "data": {
            "image/png": "[encoded data removed]",
            "text/plain": [
              "<Figure size 432x288 with 2 Axes>"
            ]
          },
          "metadata": {
            "tags": [],
            "needs_background": "light"
          }
        },
        {
          "output_type": "stream",
          "text": [
            "----------------------------------------------------------------------------------------------\n",
            "class name : 5\n",
            "mean image \t\t\t std image\n"
          ],
          "name": "stdout"
        },
        {
          "output_type": "display_data",
          "data": {
            "image/png": "[encoded data removed]",
            "text/plain": [
              "<Figure size 432x288 with 2 Axes>"
            ]
          },
          "metadata": {
            "tags": [],
            "needs_background": "light"
          }
        },
        {
          "output_type": "stream",
          "text": [
            "----------------------------------------------------------------------------------------------\n",
            "class name : 6\n",
            "mean image \t\t\t std image\n"
          ],
          "name": "stdout"
        },
        {
          "output_type": "display_data",
          "data": {
            "image/png": "[encoded data removed]",
            "text/plain": [
              "<Figure size 432x288 with 2 Axes>"
            ]
          },
          "metadata": {
            "tags": [],
            "needs_background": "light"
          }
        },
        {
          "output_type": "stream",
          "text": [
            "----------------------------------------------------------------------------------------------\n",
            "class name : 7\n",
            "mean image \t\t\t std image\n"
          ],
          "name": "stdout"
        },
        {
          "output_type": "display_data",
          "data": {
            "image/png": "[encoded data removed]",
            "text/plain": [
              "<Figure size 432x288 with 2 Axes>"
            ]
          },
          "metadata": {
            "tags": [],
            "needs_background": "light"
          }
        },
        {
          "output_type": "stream",
          "text": [
            "----------------------------------------------------------------------------------------------\n",
            "class name : 8\n",
            "mean image \t\t\t std image\n"
          ],
          "name": "stdout"
        },
        {
          "output_type": "display_data",
          "data": {
            "image/png": "[encoded data removed]",
            "text/plain": [
              "<Figure size 432x288 with 2 Axes>"
            ]
          },
          "metadata": {
            "tags": [],
            "needs_background": "light"
          }
        },
        {
          "output_type": "stream",
          "text": [
            "----------------------------------------------------------------------------------------------\n",
            "class name : 9\n",
            "mean image \t\t\t std image\n"
          ],
          "name": "stdout"
        },
        {
          "output_type": "display_data",
          "data": {
            "image/png": "[encoded data removed]",
            "text/plain": [
              "<Figure size 432x288 with 2 Axes>"
            ]
          },
          "metadata": {
            "tags": [],
            "needs_background": "light"
          }
        },
        {
          "output_type": "stream",
          "text": [
            "----------------------------------------------------------------------------------------------\n"
          ],
          "name": "stdout"
        }
      ]
    },
    {
      "cell_type": "markdown",
      "metadata": {
        "id": "0ZR-cmXFUYO9"
      },
      "source": [
        "# discriminant calculation (PART 2)"
      ]
    },
    {
      "cell_type": "code",
      "metadata": {
        "id": "3CvlPs_hQ8_G"
      },
      "source": [
        "def discriminant(test_img):\n",
        "  sum_val = 10**10\n",
        "  closest_class = -1\n",
        "  for id in mean_std_dict:\n",
        "    mean_class_img, std_class_img = mean_std_dict[id]\n",
        "\n",
        "    # calculating difference in mean pattern and test pattern\n",
        "    mean_diff = np.abs(test_img - mean_class_img)\n",
        "    # difference between standard_deviation and difference between test and mean pattern\n",
        "    std_diff = np.abs(mean_diff - std_class_img)\n",
        "\n",
        "    # low value represents less noise, which could only happen if the test image almost coincides with general class mean and deviation\n",
        "    curr_sum = np.sum(std_diff)\n",
        "\n",
        "    if sum_val > curr_sum:\n",
        "      sum_val = curr_sum\n",
        "      closest_class = id\n",
        "  return closest_class"
      ],
      "execution_count": null,
      "outputs": []
    },
    {
      "cell_type": "code",
      "metadata": {
        "id": "huKNXlmNYMPj"
      },
      "source": [
        "predictions = []\n",
        "for i in range(len(test_x)):\n",
        "  pred = discriminant(test_x[i])\n",
        "  predictions.append(str(pred))"
      ],
      "execution_count": null,
      "outputs": []
    },
    {
      "cell_type": "markdown",
      "metadata": {
        "id": "l_NRrLAJcmnW"
      },
      "source": [
        "# metrics"
      ]
    },
    {
      "cell_type": "code",
      "metadata": {
        "id": "TbqZeWLy3R6h"
      },
      "source": [
        "def get_confusion_matrix(y_true, y_preds):\n",
        "  actuals =len(np.unique(y_true))\n",
        "  matrix = np.zeros((actuals, actuals), np.int)\n",
        "\n",
        "  for t, p in zip(y_true, y_preds):\n",
        "    t = int(t)\n",
        "    p = int(p)\n",
        "    matrix[t][p] += 1\n",
        "\n",
        "  return matrix"
      ],
      "execution_count": null,
      "outputs": []
    },
    {
      "cell_type": "code",
      "metadata": {
        "id": "q7pa6zk0dF7i",
        "colab": {
          "base_uri": "https://localhost:8080/"
        },
        "outputId": "8fa535e6-5fdd-4574-e354-b80794387a5f"
      },
      "source": [
        "def get_metric(preds, tests):\n",
        "  metric_dict = {str(k):{'tp' : 0, 'fp' : 0, 'fn' : 0, 'tn' : 0} for k in range(10)}\n",
        "\n",
        "  for c in range(10):\n",
        "    c = str(c)\n",
        "    for p, t in zip(preds, tests):\n",
        "      if (p == c) and (t == c):\n",
        "        metric_dict[c]['tp'] += 1\n",
        "\n",
        "      elif p != c and t != c:\n",
        "        metric_dict[c]['tn'] += 1\n",
        "\n",
        "      elif p == c and t != c:\n",
        "        metric_dict[c]['fp'] += 1\n",
        "\n",
        "      elif p != c and t == c:\n",
        "        metric_dict[c]['fn'] += 1\n",
        "\n",
        "  matrix = get_confusion_matrix(tests, preds)\n",
        "  accuracy = matrix.diagonal()/matrix.sum(axis=1)\n",
        "\n",
        "  print('Confusion Matrix')\n",
        "  print(matrix)\n",
        "  print('\\n----------------------------------\\n')\n",
        "\n",
        "  print('Metric per class')\n",
        "  print(\"class \\tprecision   recall  \\tfscore \\t \\taccuracy\")\n",
        "  total = 0\n",
        "  for c in metric_dict:\n",
        "    prec = metric_dict[c]['tp'] / (metric_dict[c]['tp'] + metric_dict[c]['fp'])\n",
        "    recall = metric_dict[c]['tp'] / (metric_dict[c]['tp'] + metric_dict[c]['fn'])\n",
        "    f1_score = (2 * prec * recall) / (prec + recall)\n",
        "    acc = accuracy[int(c)]\n",
        "    total += acc\n",
        "\n",
        "    print(c, '->\\t', f'{str(prec)[:4]} \\t   {str(recall)[:4]} \\t   {str(f1_score)[:4]} \\t   {str(acc)[:4]}')\n",
        "  \n",
        "  print('\\n----------------------------------\\n')\n",
        "  \n",
        "  print('Total Accuracy')\n",
        "  print(total/10)\n",
        "\n",
        "get_metric(predictions, test_y)"
      ],
      "execution_count": null,
      "outputs": [
        {
          "output_type": "stream",
          "text": [
            "Confusion Matrix\n",
            "[[1318    2    0    0    0    6   16    0   26    5]\n",
            " [   0 1523    1    0    0    0    6    0   39    0]\n",
            " [  92  123  785    6    0    3  121    3  279   18]\n",
            " [  47  106   24  772    0   27   29    2  382   24]\n",
            " [  33   76    2    1  233   12   74    1  153  791]\n",
            " [ 161  129    4   46    0  366   39    0  452   56]\n",
            " [  45   48    5    0    1    5 1206    0   29    0]\n",
            " [  38  139    6    2    0    4    3  529  102  660]\n",
            " [  29  164    2    5    1    1   15    2 1109   37]\n",
            " [  37   72    1    2    2    4    3    0   89 1189]]\n",
            "\n",
            "----------------------------------\n",
            "\n",
            "Metric per class\n",
            "class \tprecision   recall  \tfscore \t \taccuracy\n",
            "0 ->\t 0.73 \t   0.95 \t   0.83 \t   0.95\n",
            "1 ->\t 0.63 \t   0.97 \t   0.77 \t   0.97\n",
            "2 ->\t 0.94 \t   0.54 \t   0.69 \t   0.54\n",
            "3 ->\t 0.92 \t   0.54 \t   0.68 \t   0.54\n",
            "4 ->\t 0.98 \t   0.16 \t   0.28 \t   0.16\n",
            "5 ->\t 0.85 \t   0.29 \t   0.43 \t   0.29\n",
            "6 ->\t 0.79 \t   0.90 \t   0.84 \t   0.90\n",
            "7 ->\t 0.98 \t   0.35 \t   0.52 \t   0.35\n",
            "8 ->\t 0.41 \t   0.81 \t   0.55 \t   0.81\n",
            "9 ->\t 0.42 \t   0.84 \t   0.56 \t   0.84\n",
            "\n",
            "----------------------------------\n",
            "\n",
            "Total Accuracy\n",
            "0.6407088885019184\n"
          ],
          "name": "stdout"
        }
      ]
    },
    {
      "cell_type": "code",
      "metadata": {
        "id": "Ov323jtJYMJi"
      },
      "source": [
        "'''\n",
        "# there are certain disadvantages of bayseian method for pattern recognition which makes it less efficient than other methods. They are : \n",
        "\n",
        "  1.The main limitation of Naive Bayes is the assumption of independent predictor features. \n",
        "    Naive Bayes implicitly assumes that all the attributes are mutually independent. \n",
        "    In real life, it’s almost impossible that we get a set of predictors that are completely independent or one another.\n",
        "\n",
        "  2.If a categorical variable has a category in the test dataset, which was not observed in training dataset,\n",
        "    then the model will assign a 0 (zero) probability and will be unable to make a prediction.\n",
        "    This is often known as Zero Frequency. To solve this, we can use a smoothing technique.\n",
        "    \n",
        "'''"
      ],
      "execution_count": null,
      "outputs": []
    },
    {
      "cell_type": "code",
      "metadata": {
        "id": "KekkJQqcYMEi"
      },
      "source": [
        ""
      ],
      "execution_count": null,
      "outputs": []
    }
  ]
}